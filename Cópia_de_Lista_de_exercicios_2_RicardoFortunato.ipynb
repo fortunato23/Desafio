{
  "nbformat": 4,
  "nbformat_minor": 0,
  "metadata": {
    "colab": {
      "name": "Cópia de Lista de exercicios 2.RicardoFortunato",
      "provenance": [],
      "collapsed_sections": [],
      "include_colab_link": true
    },
    "kernelspec": {
      "name": "python3",
      "display_name": "Python 3"
    },
    "language_info": {
      "name": "python"
    }
  },
  "cells": [
    {
      "cell_type": "markdown",
      "metadata": {
        "id": "view-in-github",
        "colab_type": "text"
      },
      "source": [
        "<a href=\"https://colab.research.google.com/github/fortunato23/Desafio/blob/main/C%C3%B3pia_de_Lista_de_exercicios_2_RicardoFortunato.ipynb\" target=\"_parent\"><img src=\"https://colab.research.google.com/assets/colab-badge.svg\" alt=\"Open In Colab\"/></a>"
      ]
    },
    {
      "cell_type": "markdown",
      "source": [
        "#Segunda Unidade\n",
        "##2º Lista de exercícios \n",
        "\n",
        "Exercícios com base nas aulas do dia 16/05 e 20/05 e deverá ser enviado até segunda (23/05) antes da aula. Dessa maneira, vocês podem me enviar o link dessa lista respondida (lembrar de autorizar qualquer pessoa com link de visualizar) ou fazer o download do arquivo (Arquivo > Fazer download > Fazer download do .ibynb) e me enviar por e-mail. "
      ],
      "metadata": {
        "id": "55ErYTfbMWZx"
      }
    },
    {
      "cell_type": "code",
      "execution_count": null,
      "metadata": {
        "id": "RdhaWX7CL9Cs"
      },
      "outputs": [],
      "source": [
        "# Exercício 1 - Crie uma estrutura que pergunte ao usuário qual o dia da semana. Se o dia for igual a Domingo ou igual a sábado, imprima na tela \"Hoje é dia de descanso\", caso contrário imprima na tela \"Você precisa trabalhar!\"\n",
        "dia=input(\"Qual o dia da semana?\")\n",
        "if dia==\"Domingo\" or dia== \"Sabado\":\n",
        "  print(\"hoje é dia de descanso\")\n",
        "else:\n",
        "    print(\"você precisa trabalhar\")\n"
      ]
    },
    {
      "cell_type": "code",
      "source": [
        "# Exercício 2 - Imprima a sequência de números pares até 70 (de maneira automatizada)\n",
        "for i in range(4,60,4):\n",
        "print i"
      ],
      "metadata": {
        "id": "6foai8ABMh5J",
        "colab": {
          "base_uri": "https://localhost:8080/",
          "height": 130
        },
        "outputId": "44bdb9e8-aec2-48e4-8070-92b5d50eceee"
      },
      "execution_count": null,
      "outputs": [
        {
          "output_type": "error",
          "ename": "SyntaxError",
          "evalue": "ignored",
          "traceback": [
            "\u001b[0;36m  File \u001b[0;32m\"<ipython-input-10-15ca15db25cf>\"\u001b[0;36m, line \u001b[0;32m2\u001b[0m\n\u001b[0;31m    for val in range(0,70)\u001b[0m\n\u001b[0m                          ^\u001b[0m\n\u001b[0;31mSyntaxError\u001b[0m\u001b[0;31m:\u001b[0m invalid syntax\n"
          ]
        }
      ]
    },
    {
      "cell_type": "code",
      "source": [
        "# Exercício 3 - Leia um numero fornecido pelo usuario. Se esse numero for positivo, calcule a raiz quadrada do numero. Se o numero for negativo, mostre uma mensagem dizendo que o numero é invalido\n",
        "import match\n",
        "numero=int(input( 'numero:' ))\n",
        "\n",
        "if  numero  >  0 :\n",
        "  print(math.sqrt ( numero ))\n",
        "  elif  numero  <=  0 :\n",
        "    print ( \"numero é inválido\" )\n"
      ],
      "metadata": {
        "id": "YAu7pVMgQjhP"
      },
      "execution_count": null,
      "outputs": []
    },
    {
      "cell_type": "code",
      "source": [
        "# Exercício 4 - Faça um programa que conte quantas vezes a letra \"e\" aparece na frase abaixo. \n",
        "# \"Receba! e o melhor do mundo! Graças a deus pai!\"\n",
        "frase = \"Receba! e o melhor do mundo! Graças a deus pai!\"\n",
        "frase.count(\"e\")\n",
        "print(\"A frase tem um total de letra e de:\", frase.count(\"e\"))\n"
      ],
      "metadata": {
        "id": "9zrwvBO4QuKn"
      },
      "execution_count": null,
      "outputs": []
    },
    {
      "cell_type": "code",
      "source": [
        "# Exercício 5 - Faça um programa que receba um numero inteiro e verifique se este numero é par ou ımpar (imprima a resposta)\n",
        "numero  =  int ( input ( \"numero:\" ))\n",
        "result  =  numero % 2\n",
        "\n",
        "if  result  ==  0 :\n",
        "  print ( \"numero é par\" )\n",
        "  elif  result  ==  1 :\n",
        "    print ( \"numero é impar\" )"
      ],
      "metadata": {
        "id": "dOcAfeCXRCyN"
      },
      "execution_count": null,
      "outputs": []
    },
    {
      "cell_type": "code",
      "source": [
        "# Exercício 6 - Faça um programa que receba do usuario as seguintes informações: o salario e o valor da prestacao de um emprestimo. \n",
        "#Se a prestação for maior que 20% do salário imprima: Empréstimo não concedido, caso contrario imprima: Empréstimo concedido\n",
        "\n",
        "salario  =   float (input ( \"valor do Salário:\" ))\n",
        "prestação  =   float(input ( \"Valor da prestaçao:\" ))\n",
        "emprestimo  =  float (salario / 0.20)\n",
        "print (emprestimo)\n",
        "if  emprestimo > prestação :\n",
        "  print ( 'Emprestimo concedido!' )\n",
        "else :\n",
        "  print ( 'Empréstimo não concedido!' )\n"
      ],
      "metadata": {
        "id": "BgiHb42sRUCx"
      },
      "execution_count": null,
      "outputs": []
    },
    {
      "cell_type": "code",
      "source": [
        "# Exercício 7 - Escreva um programa que não saia do loop enquanto o usuário não digitar corretamente a senha, além disso quando o usuário errar imprima a seguinte mensagem: \"dica de senha: campeão brasileiro em 1987\"\n",
        "senha = sport\n",
        "senha = \"sport\"\n",
        "digite_senha = input(\"Digite a senha \")\n",
        "\n",
        "while senha != Qual_senha: \n",
        "  print(\"dica de senha: campeão brasileiro em 1987\")\n",
        "  digite_senha = input(\"tente novamente\")\n",
        "  print(\"Parabéns, você acertou a senha\")\n"
      ],
      "metadata": {
        "id": "IU9QamZpSVSn"
      },
      "execution_count": null,
      "outputs": []
    },
    {
      "cell_type": "code",
      "source": [
        "#Exercício 8 - Faça uma calculadora das quatro principais operações, na qual você pedirá ao usuário dois números e qual operação matemática será feita, com base nessas informações você deve imprimir a resposta.\n"
      ],
      "metadata": {
        "id": "HsfvqQQgMwIk"
      },
      "execution_count": null,
      "outputs": []
    }
  ]
}